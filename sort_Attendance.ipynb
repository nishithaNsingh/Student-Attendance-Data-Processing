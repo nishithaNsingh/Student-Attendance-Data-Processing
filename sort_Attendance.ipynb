{
  "nbformat": 4,
  "nbformat_minor": 0,
  "metadata": {
    "colab": {
      "provenance": [],
      "authorship_tag": "ABX9TyNESO9LNCu6xb/hxyw+yG9k",
      "include_colab_link": true
    },
    "kernelspec": {
      "name": "python3",
      "display_name": "Python 3"
    },
    "language_info": {
      "name": "python"
    }
  },
  "cells": [
    {
      "cell_type": "markdown",
      "metadata": {
        "id": "view-in-github",
        "colab_type": "text"
      },
      "source": [
        "<a href=\"https://colab.research.google.com/github/nishithaNsingh/Student-Attendance-Data-Processing/blob/main/sort_Attendance.ipynb\" target=\"_parent\"><img src=\"https://colab.research.google.com/assets/colab-badge.svg\" alt=\"Open In Colab\"/></a>"
      ]
    },
    {
      "cell_type": "code",
      "source": [
        "!pip install pandas openpyxl\n",
        "!pip install xlsxwriter\n",
        "!pip install pandas"
      ],
      "metadata": {
        "colab": {
          "base_uri": "https://localhost:8080/"
        },
        "id": "NL-fCwaW38h5",
        "outputId": "e19a0e13-b2ca-421a-cea5-b12a63bdf52e"
      },
      "execution_count": 10,
      "outputs": [
        {
          "output_type": "stream",
          "name": "stdout",
          "text": [
            "Requirement already satisfied: pandas in /usr/local/lib/python3.11/dist-packages (2.2.2)\n",
            "Requirement already satisfied: openpyxl in /usr/local/lib/python3.11/dist-packages (3.1.5)\n",
            "Requirement already satisfied: numpy>=1.23.2 in /usr/local/lib/python3.11/dist-packages (from pandas) (1.26.4)\n",
            "Requirement already satisfied: python-dateutil>=2.8.2 in /usr/local/lib/python3.11/dist-packages (from pandas) (2.8.2)\n",
            "Requirement already satisfied: pytz>=2020.1 in /usr/local/lib/python3.11/dist-packages (from pandas) (2025.1)\n",
            "Requirement already satisfied: tzdata>=2022.7 in /usr/local/lib/python3.11/dist-packages (from pandas) (2025.1)\n",
            "Requirement already satisfied: et-xmlfile in /usr/local/lib/python3.11/dist-packages (from openpyxl) (2.0.0)\n",
            "Requirement already satisfied: six>=1.5 in /usr/local/lib/python3.11/dist-packages (from python-dateutil>=2.8.2->pandas) (1.17.0)\n",
            "Collecting xlsxwriter\n",
            "  Downloading XlsxWriter-3.2.2-py3-none-any.whl.metadata (2.8 kB)\n",
            "Downloading XlsxWriter-3.2.2-py3-none-any.whl (165 kB)\n",
            "\u001b[2K   \u001b[90m━━━━━━━━━━━━━━━━━━━━━━━━━━━━━━━━━━━━━━━━\u001b[0m \u001b[32m165.1/165.1 kB\u001b[0m \u001b[31m4.3 MB/s\u001b[0m eta \u001b[36m0:00:00\u001b[0m\n",
            "\u001b[?25hInstalling collected packages: xlsxwriter\n",
            "Successfully installed xlsxwriter-3.2.2\n"
          ]
        }
      ]
    },
    {
      "cell_type": "code",
      "source": [
        "import pandas as pd\n",
        "import os\n",
        "\n",
        "# Load data from an Excel file\n",
        "file_path = \"/content/students_5000_new_diffy.xlsx\"   # Update with your file name\n",
        "df = pd.read_excel(file_path)\n",
        "\n",
        "# Function to extract semester and branch\n",
        "def extract_info(roll_number):\n",
        "    year = int(roll_number[:4])  # Extract admission year\n",
        "    branch = ''.join([char for char in roll_number[4:] if not char.isdigit()])\n",
        "    current_year = 2024  # Adjust based on the current year\n",
        "\n",
        "    study_year = current_year - year  # Number of years since admission\n",
        "    semester = (study_year * 2) + 2  # Ensure correct semester progression\n",
        "\n",
        "    # Ensure the max semester is 8 (for a 4-year course)\n",
        "    semester = min(semester, 8)\n",
        "\n",
        "    return semester, branch\n",
        "\n",
        "\n",
        "# Process each row\n",
        "df[['Semester', 'Branch']] = df['Roll Number'].apply(lambda x: pd.Series(extract_info(x)))\n",
        "\n",
        "# Creating directory to store output files\n",
        "output_dir = \"new_sorted_students_new\"\n",
        "os.makedirs(output_dir, exist_ok=True)\n",
        "\n",
        "# Define attendance categories\n",
        "attendance_ranges = {\n",
        "    \"<75%\": df[\"Attendance (%)\"] < 75,\n",
        "    \"65-75%\": (df[\"Attendance (%)\"] >= 65) & (df[\"Attendance (%)\"] < 75),\n",
        "    \"50-65%\": (df[\"Attendance (%)\"] >= 50) & (df[\"Attendance (%)\"] < 65),\n",
        "    \"40-50%\": (df[\"Attendance (%)\"] >= 40) & (df[\"Attendance (%)\"] < 50),\n",
        "    \"30-40%\": (df[\"Attendance (%)\"] >= 30) & (df[\"Attendance (%)\"] < 40),\n",
        "    \"20-30%\": (df[\"Attendance (%)\"] >= 20) & (df[\"Attendance (%)\"] < 30),\n",
        "    \"10-20%\": (df[\"Attendance (%)\"] >= 10) & (df[\"Attendance (%)\"] < 20),\n",
        "    \"0-10%\": (df[\"Attendance (%)\"] >= 0) & (df[\"Attendance (%)\"] < 10),\n",
        "}\n",
        "\n",
        "# Group data by semester and branch\n",
        "for (semester, branch), group in df.groupby(['Semester', 'Branch']):\n",
        "    filename = f\"{output_dir}/{branch}_{str(semester).zfill(2)}.xlsx\"\n",
        "    writer = pd.ExcelWriter(filename, engine='xlsxwriter')\n",
        "\n",
        "    # Add a sheet with all students in this category\n",
        "    group.to_excel(writer, sheet_name=\"All Students\", index=False)\n",
        "\n",
        "    # Create a sheet for each attendance category\n",
        "    for category, condition in attendance_ranges.items():\n",
        "        filtered_data = group[condition]  # FIXED: Directly use the boolean mask\n",
        "        if not filtered_data.empty:\n",
        "            filtered_data.to_excel(writer, sheet_name=category, index=False)\n",
        "\n",
        "    writer.close()\n",
        "    print(f\"Created {filename}\")\n",
        "\n",
        "print(\"Processing complete.\")\n"
      ],
      "metadata": {
        "colab": {
          "base_uri": "https://localhost:8080/"
        },
        "id": "rterObOy6BIS",
        "outputId": "cd8b31be-65f1-4c49-d0d7-443512728900"
      },
      "execution_count": 18,
      "outputs": [
        {
          "output_type": "stream",
          "name": "stderr",
          "text": [
            "<ipython-input-18-8e8566a913d2>:52: UserWarning: Boolean Series key will be reindexed to match DataFrame index.\n",
            "  filtered_data = group[condition]  # FIXED: Directly use the boolean mask\n",
            "<ipython-input-18-8e8566a913d2>:52: UserWarning: Boolean Series key will be reindexed to match DataFrame index.\n",
            "  filtered_data = group[condition]  # FIXED: Directly use the boolean mask\n",
            "<ipython-input-18-8e8566a913d2>:52: UserWarning: Boolean Series key will be reindexed to match DataFrame index.\n",
            "  filtered_data = group[condition]  # FIXED: Directly use the boolean mask\n",
            "<ipython-input-18-8e8566a913d2>:52: UserWarning: Boolean Series key will be reindexed to match DataFrame index.\n",
            "  filtered_data = group[condition]  # FIXED: Directly use the boolean mask\n",
            "<ipython-input-18-8e8566a913d2>:52: UserWarning: Boolean Series key will be reindexed to match DataFrame index.\n",
            "  filtered_data = group[condition]  # FIXED: Directly use the boolean mask\n",
            "<ipython-input-18-8e8566a913d2>:52: UserWarning: Boolean Series key will be reindexed to match DataFrame index.\n",
            "  filtered_data = group[condition]  # FIXED: Directly use the boolean mask\n",
            "<ipython-input-18-8e8566a913d2>:52: UserWarning: Boolean Series key will be reindexed to match DataFrame index.\n",
            "  filtered_data = group[condition]  # FIXED: Directly use the boolean mask\n",
            "<ipython-input-18-8e8566a913d2>:52: UserWarning: Boolean Series key will be reindexed to match DataFrame index.\n",
            "  filtered_data = group[condition]  # FIXED: Directly use the boolean mask\n",
            "<ipython-input-18-8e8566a913d2>:52: UserWarning: Boolean Series key will be reindexed to match DataFrame index.\n",
            "  filtered_data = group[condition]  # FIXED: Directly use the boolean mask\n",
            "<ipython-input-18-8e8566a913d2>:52: UserWarning: Boolean Series key will be reindexed to match DataFrame index.\n",
            "  filtered_data = group[condition]  # FIXED: Directly use the boolean mask\n",
            "<ipython-input-18-8e8566a913d2>:52: UserWarning: Boolean Series key will be reindexed to match DataFrame index.\n",
            "  filtered_data = group[condition]  # FIXED: Directly use the boolean mask\n",
            "<ipython-input-18-8e8566a913d2>:52: UserWarning: Boolean Series key will be reindexed to match DataFrame index.\n",
            "  filtered_data = group[condition]  # FIXED: Directly use the boolean mask\n",
            "<ipython-input-18-8e8566a913d2>:52: UserWarning: Boolean Series key will be reindexed to match DataFrame index.\n",
            "  filtered_data = group[condition]  # FIXED: Directly use the boolean mask\n",
            "<ipython-input-18-8e8566a913d2>:52: UserWarning: Boolean Series key will be reindexed to match DataFrame index.\n",
            "  filtered_data = group[condition]  # FIXED: Directly use the boolean mask\n",
            "<ipython-input-18-8e8566a913d2>:52: UserWarning: Boolean Series key will be reindexed to match DataFrame index.\n",
            "  filtered_data = group[condition]  # FIXED: Directly use the boolean mask\n",
            "<ipython-input-18-8e8566a913d2>:52: UserWarning: Boolean Series key will be reindexed to match DataFrame index.\n",
            "  filtered_data = group[condition]  # FIXED: Directly use the boolean mask\n"
          ]
        },
        {
          "output_type": "stream",
          "name": "stdout",
          "text": [
            "Created new_sorted_students_new/CE_04.xlsx\n",
            "Created new_sorted_students_new/CIT_04.xlsx\n",
            "Created new_sorted_students_new/CSD_04.xlsx\n"
          ]
        },
        {
          "output_type": "stream",
          "name": "stderr",
          "text": [
            "<ipython-input-18-8e8566a913d2>:52: UserWarning: Boolean Series key will be reindexed to match DataFrame index.\n",
            "  filtered_data = group[condition]  # FIXED: Directly use the boolean mask\n",
            "<ipython-input-18-8e8566a913d2>:52: UserWarning: Boolean Series key will be reindexed to match DataFrame index.\n",
            "  filtered_data = group[condition]  # FIXED: Directly use the boolean mask\n",
            "<ipython-input-18-8e8566a913d2>:52: UserWarning: Boolean Series key will be reindexed to match DataFrame index.\n",
            "  filtered_data = group[condition]  # FIXED: Directly use the boolean mask\n",
            "<ipython-input-18-8e8566a913d2>:52: UserWarning: Boolean Series key will be reindexed to match DataFrame index.\n",
            "  filtered_data = group[condition]  # FIXED: Directly use the boolean mask\n",
            "<ipython-input-18-8e8566a913d2>:52: UserWarning: Boolean Series key will be reindexed to match DataFrame index.\n",
            "  filtered_data = group[condition]  # FIXED: Directly use the boolean mask\n",
            "<ipython-input-18-8e8566a913d2>:52: UserWarning: Boolean Series key will be reindexed to match DataFrame index.\n",
            "  filtered_data = group[condition]  # FIXED: Directly use the boolean mask\n",
            "<ipython-input-18-8e8566a913d2>:52: UserWarning: Boolean Series key will be reindexed to match DataFrame index.\n",
            "  filtered_data = group[condition]  # FIXED: Directly use the boolean mask\n",
            "<ipython-input-18-8e8566a913d2>:52: UserWarning: Boolean Series key will be reindexed to match DataFrame index.\n",
            "  filtered_data = group[condition]  # FIXED: Directly use the boolean mask\n",
            "<ipython-input-18-8e8566a913d2>:52: UserWarning: Boolean Series key will be reindexed to match DataFrame index.\n",
            "  filtered_data = group[condition]  # FIXED: Directly use the boolean mask\n",
            "<ipython-input-18-8e8566a913d2>:52: UserWarning: Boolean Series key will be reindexed to match DataFrame index.\n",
            "  filtered_data = group[condition]  # FIXED: Directly use the boolean mask\n",
            "<ipython-input-18-8e8566a913d2>:52: UserWarning: Boolean Series key will be reindexed to match DataFrame index.\n",
            "  filtered_data = group[condition]  # FIXED: Directly use the boolean mask\n",
            "<ipython-input-18-8e8566a913d2>:52: UserWarning: Boolean Series key will be reindexed to match DataFrame index.\n",
            "  filtered_data = group[condition]  # FIXED: Directly use the boolean mask\n",
            "<ipython-input-18-8e8566a913d2>:52: UserWarning: Boolean Series key will be reindexed to match DataFrame index.\n",
            "  filtered_data = group[condition]  # FIXED: Directly use the boolean mask\n",
            "<ipython-input-18-8e8566a913d2>:52: UserWarning: Boolean Series key will be reindexed to match DataFrame index.\n",
            "  filtered_data = group[condition]  # FIXED: Directly use the boolean mask\n",
            "<ipython-input-18-8e8566a913d2>:52: UserWarning: Boolean Series key will be reindexed to match DataFrame index.\n",
            "  filtered_data = group[condition]  # FIXED: Directly use the boolean mask\n",
            "<ipython-input-18-8e8566a913d2>:52: UserWarning: Boolean Series key will be reindexed to match DataFrame index.\n",
            "  filtered_data = group[condition]  # FIXED: Directly use the boolean mask\n"
          ]
        },
        {
          "output_type": "stream",
          "name": "stdout",
          "text": [
            "Created new_sorted_students_new/CSE_04.xlsx\n",
            "Created new_sorted_students_new/ECE_04.xlsx\n"
          ]
        },
        {
          "output_type": "stream",
          "name": "stderr",
          "text": [
            "<ipython-input-18-8e8566a913d2>:52: UserWarning: Boolean Series key will be reindexed to match DataFrame index.\n",
            "  filtered_data = group[condition]  # FIXED: Directly use the boolean mask\n",
            "<ipython-input-18-8e8566a913d2>:52: UserWarning: Boolean Series key will be reindexed to match DataFrame index.\n",
            "  filtered_data = group[condition]  # FIXED: Directly use the boolean mask\n",
            "<ipython-input-18-8e8566a913d2>:52: UserWarning: Boolean Series key will be reindexed to match DataFrame index.\n",
            "  filtered_data = group[condition]  # FIXED: Directly use the boolean mask\n",
            "<ipython-input-18-8e8566a913d2>:52: UserWarning: Boolean Series key will be reindexed to match DataFrame index.\n",
            "  filtered_data = group[condition]  # FIXED: Directly use the boolean mask\n",
            "<ipython-input-18-8e8566a913d2>:52: UserWarning: Boolean Series key will be reindexed to match DataFrame index.\n",
            "  filtered_data = group[condition]  # FIXED: Directly use the boolean mask\n",
            "<ipython-input-18-8e8566a913d2>:52: UserWarning: Boolean Series key will be reindexed to match DataFrame index.\n",
            "  filtered_data = group[condition]  # FIXED: Directly use the boolean mask\n",
            "<ipython-input-18-8e8566a913d2>:52: UserWarning: Boolean Series key will be reindexed to match DataFrame index.\n",
            "  filtered_data = group[condition]  # FIXED: Directly use the boolean mask\n",
            "<ipython-input-18-8e8566a913d2>:52: UserWarning: Boolean Series key will be reindexed to match DataFrame index.\n",
            "  filtered_data = group[condition]  # FIXED: Directly use the boolean mask\n",
            "<ipython-input-18-8e8566a913d2>:52: UserWarning: Boolean Series key will be reindexed to match DataFrame index.\n",
            "  filtered_data = group[condition]  # FIXED: Directly use the boolean mask\n",
            "<ipython-input-18-8e8566a913d2>:52: UserWarning: Boolean Series key will be reindexed to match DataFrame index.\n",
            "  filtered_data = group[condition]  # FIXED: Directly use the boolean mask\n",
            "<ipython-input-18-8e8566a913d2>:52: UserWarning: Boolean Series key will be reindexed to match DataFrame index.\n",
            "  filtered_data = group[condition]  # FIXED: Directly use the boolean mask\n",
            "<ipython-input-18-8e8566a913d2>:52: UserWarning: Boolean Series key will be reindexed to match DataFrame index.\n",
            "  filtered_data = group[condition]  # FIXED: Directly use the boolean mask\n",
            "<ipython-input-18-8e8566a913d2>:52: UserWarning: Boolean Series key will be reindexed to match DataFrame index.\n",
            "  filtered_data = group[condition]  # FIXED: Directly use the boolean mask\n",
            "<ipython-input-18-8e8566a913d2>:52: UserWarning: Boolean Series key will be reindexed to match DataFrame index.\n",
            "  filtered_data = group[condition]  # FIXED: Directly use the boolean mask\n",
            "<ipython-input-18-8e8566a913d2>:52: UserWarning: Boolean Series key will be reindexed to match DataFrame index.\n",
            "  filtered_data = group[condition]  # FIXED: Directly use the boolean mask\n",
            "<ipython-input-18-8e8566a913d2>:52: UserWarning: Boolean Series key will be reindexed to match DataFrame index.\n",
            "  filtered_data = group[condition]  # FIXED: Directly use the boolean mask\n"
          ]
        },
        {
          "output_type": "stream",
          "name": "stdout",
          "text": [
            "Created new_sorted_students_new/EEE_04.xlsx\n",
            "Created new_sorted_students_new/ME_04.xlsx\n"
          ]
        },
        {
          "output_type": "stream",
          "name": "stderr",
          "text": [
            "<ipython-input-18-8e8566a913d2>:52: UserWarning: Boolean Series key will be reindexed to match DataFrame index.\n",
            "  filtered_data = group[condition]  # FIXED: Directly use the boolean mask\n",
            "<ipython-input-18-8e8566a913d2>:52: UserWarning: Boolean Series key will be reindexed to match DataFrame index.\n",
            "  filtered_data = group[condition]  # FIXED: Directly use the boolean mask\n",
            "<ipython-input-18-8e8566a913d2>:52: UserWarning: Boolean Series key will be reindexed to match DataFrame index.\n",
            "  filtered_data = group[condition]  # FIXED: Directly use the boolean mask\n",
            "<ipython-input-18-8e8566a913d2>:52: UserWarning: Boolean Series key will be reindexed to match DataFrame index.\n",
            "  filtered_data = group[condition]  # FIXED: Directly use the boolean mask\n",
            "<ipython-input-18-8e8566a913d2>:52: UserWarning: Boolean Series key will be reindexed to match DataFrame index.\n",
            "  filtered_data = group[condition]  # FIXED: Directly use the boolean mask\n",
            "<ipython-input-18-8e8566a913d2>:52: UserWarning: Boolean Series key will be reindexed to match DataFrame index.\n",
            "  filtered_data = group[condition]  # FIXED: Directly use the boolean mask\n",
            "<ipython-input-18-8e8566a913d2>:52: UserWarning: Boolean Series key will be reindexed to match DataFrame index.\n",
            "  filtered_data = group[condition]  # FIXED: Directly use the boolean mask\n",
            "<ipython-input-18-8e8566a913d2>:52: UserWarning: Boolean Series key will be reindexed to match DataFrame index.\n",
            "  filtered_data = group[condition]  # FIXED: Directly use the boolean mask\n",
            "<ipython-input-18-8e8566a913d2>:52: UserWarning: Boolean Series key will be reindexed to match DataFrame index.\n",
            "  filtered_data = group[condition]  # FIXED: Directly use the boolean mask\n",
            "<ipython-input-18-8e8566a913d2>:52: UserWarning: Boolean Series key will be reindexed to match DataFrame index.\n",
            "  filtered_data = group[condition]  # FIXED: Directly use the boolean mask\n",
            "<ipython-input-18-8e8566a913d2>:52: UserWarning: Boolean Series key will be reindexed to match DataFrame index.\n",
            "  filtered_data = group[condition]  # FIXED: Directly use the boolean mask\n",
            "<ipython-input-18-8e8566a913d2>:52: UserWarning: Boolean Series key will be reindexed to match DataFrame index.\n",
            "  filtered_data = group[condition]  # FIXED: Directly use the boolean mask\n",
            "<ipython-input-18-8e8566a913d2>:52: UserWarning: Boolean Series key will be reindexed to match DataFrame index.\n",
            "  filtered_data = group[condition]  # FIXED: Directly use the boolean mask\n",
            "<ipython-input-18-8e8566a913d2>:52: UserWarning: Boolean Series key will be reindexed to match DataFrame index.\n",
            "  filtered_data = group[condition]  # FIXED: Directly use the boolean mask\n",
            "<ipython-input-18-8e8566a913d2>:52: UserWarning: Boolean Series key will be reindexed to match DataFrame index.\n",
            "  filtered_data = group[condition]  # FIXED: Directly use the boolean mask\n",
            "<ipython-input-18-8e8566a913d2>:52: UserWarning: Boolean Series key will be reindexed to match DataFrame index.\n",
            "  filtered_data = group[condition]  # FIXED: Directly use the boolean mask\n"
          ]
        },
        {
          "output_type": "stream",
          "name": "stdout",
          "text": [
            "Created new_sorted_students_new/CE_06.xlsx\n",
            "Created new_sorted_students_new/CIT_06.xlsx\n"
          ]
        },
        {
          "output_type": "stream",
          "name": "stderr",
          "text": [
            "<ipython-input-18-8e8566a913d2>:52: UserWarning: Boolean Series key will be reindexed to match DataFrame index.\n",
            "  filtered_data = group[condition]  # FIXED: Directly use the boolean mask\n",
            "<ipython-input-18-8e8566a913d2>:52: UserWarning: Boolean Series key will be reindexed to match DataFrame index.\n",
            "  filtered_data = group[condition]  # FIXED: Directly use the boolean mask\n",
            "<ipython-input-18-8e8566a913d2>:52: UserWarning: Boolean Series key will be reindexed to match DataFrame index.\n",
            "  filtered_data = group[condition]  # FIXED: Directly use the boolean mask\n",
            "<ipython-input-18-8e8566a913d2>:52: UserWarning: Boolean Series key will be reindexed to match DataFrame index.\n",
            "  filtered_data = group[condition]  # FIXED: Directly use the boolean mask\n",
            "<ipython-input-18-8e8566a913d2>:52: UserWarning: Boolean Series key will be reindexed to match DataFrame index.\n",
            "  filtered_data = group[condition]  # FIXED: Directly use the boolean mask\n",
            "<ipython-input-18-8e8566a913d2>:52: UserWarning: Boolean Series key will be reindexed to match DataFrame index.\n",
            "  filtered_data = group[condition]  # FIXED: Directly use the boolean mask\n",
            "<ipython-input-18-8e8566a913d2>:52: UserWarning: Boolean Series key will be reindexed to match DataFrame index.\n",
            "  filtered_data = group[condition]  # FIXED: Directly use the boolean mask\n",
            "<ipython-input-18-8e8566a913d2>:52: UserWarning: Boolean Series key will be reindexed to match DataFrame index.\n",
            "  filtered_data = group[condition]  # FIXED: Directly use the boolean mask\n",
            "<ipython-input-18-8e8566a913d2>:52: UserWarning: Boolean Series key will be reindexed to match DataFrame index.\n",
            "  filtered_data = group[condition]  # FIXED: Directly use the boolean mask\n",
            "<ipython-input-18-8e8566a913d2>:52: UserWarning: Boolean Series key will be reindexed to match DataFrame index.\n",
            "  filtered_data = group[condition]  # FIXED: Directly use the boolean mask\n",
            "<ipython-input-18-8e8566a913d2>:52: UserWarning: Boolean Series key will be reindexed to match DataFrame index.\n",
            "  filtered_data = group[condition]  # FIXED: Directly use the boolean mask\n",
            "<ipython-input-18-8e8566a913d2>:52: UserWarning: Boolean Series key will be reindexed to match DataFrame index.\n",
            "  filtered_data = group[condition]  # FIXED: Directly use the boolean mask\n",
            "<ipython-input-18-8e8566a913d2>:52: UserWarning: Boolean Series key will be reindexed to match DataFrame index.\n",
            "  filtered_data = group[condition]  # FIXED: Directly use the boolean mask\n",
            "<ipython-input-18-8e8566a913d2>:52: UserWarning: Boolean Series key will be reindexed to match DataFrame index.\n",
            "  filtered_data = group[condition]  # FIXED: Directly use the boolean mask\n",
            "<ipython-input-18-8e8566a913d2>:52: UserWarning: Boolean Series key will be reindexed to match DataFrame index.\n",
            "  filtered_data = group[condition]  # FIXED: Directly use the boolean mask\n",
            "<ipython-input-18-8e8566a913d2>:52: UserWarning: Boolean Series key will be reindexed to match DataFrame index.\n",
            "  filtered_data = group[condition]  # FIXED: Directly use the boolean mask\n"
          ]
        },
        {
          "output_type": "stream",
          "name": "stdout",
          "text": [
            "Created new_sorted_students_new/CSD_06.xlsx\n",
            "Created new_sorted_students_new/CSE_06.xlsx\n"
          ]
        },
        {
          "output_type": "stream",
          "name": "stderr",
          "text": [
            "<ipython-input-18-8e8566a913d2>:52: UserWarning: Boolean Series key will be reindexed to match DataFrame index.\n",
            "  filtered_data = group[condition]  # FIXED: Directly use the boolean mask\n",
            "<ipython-input-18-8e8566a913d2>:52: UserWarning: Boolean Series key will be reindexed to match DataFrame index.\n",
            "  filtered_data = group[condition]  # FIXED: Directly use the boolean mask\n",
            "<ipython-input-18-8e8566a913d2>:52: UserWarning: Boolean Series key will be reindexed to match DataFrame index.\n",
            "  filtered_data = group[condition]  # FIXED: Directly use the boolean mask\n",
            "<ipython-input-18-8e8566a913d2>:52: UserWarning: Boolean Series key will be reindexed to match DataFrame index.\n",
            "  filtered_data = group[condition]  # FIXED: Directly use the boolean mask\n",
            "<ipython-input-18-8e8566a913d2>:52: UserWarning: Boolean Series key will be reindexed to match DataFrame index.\n",
            "  filtered_data = group[condition]  # FIXED: Directly use the boolean mask\n",
            "<ipython-input-18-8e8566a913d2>:52: UserWarning: Boolean Series key will be reindexed to match DataFrame index.\n",
            "  filtered_data = group[condition]  # FIXED: Directly use the boolean mask\n",
            "<ipython-input-18-8e8566a913d2>:52: UserWarning: Boolean Series key will be reindexed to match DataFrame index.\n",
            "  filtered_data = group[condition]  # FIXED: Directly use the boolean mask\n",
            "<ipython-input-18-8e8566a913d2>:52: UserWarning: Boolean Series key will be reindexed to match DataFrame index.\n",
            "  filtered_data = group[condition]  # FIXED: Directly use the boolean mask\n",
            "<ipython-input-18-8e8566a913d2>:52: UserWarning: Boolean Series key will be reindexed to match DataFrame index.\n",
            "  filtered_data = group[condition]  # FIXED: Directly use the boolean mask\n",
            "<ipython-input-18-8e8566a913d2>:52: UserWarning: Boolean Series key will be reindexed to match DataFrame index.\n",
            "  filtered_data = group[condition]  # FIXED: Directly use the boolean mask\n",
            "<ipython-input-18-8e8566a913d2>:52: UserWarning: Boolean Series key will be reindexed to match DataFrame index.\n",
            "  filtered_data = group[condition]  # FIXED: Directly use the boolean mask\n",
            "<ipython-input-18-8e8566a913d2>:52: UserWarning: Boolean Series key will be reindexed to match DataFrame index.\n",
            "  filtered_data = group[condition]  # FIXED: Directly use the boolean mask\n",
            "<ipython-input-18-8e8566a913d2>:52: UserWarning: Boolean Series key will be reindexed to match DataFrame index.\n",
            "  filtered_data = group[condition]  # FIXED: Directly use the boolean mask\n",
            "<ipython-input-18-8e8566a913d2>:52: UserWarning: Boolean Series key will be reindexed to match DataFrame index.\n",
            "  filtered_data = group[condition]  # FIXED: Directly use the boolean mask\n",
            "<ipython-input-18-8e8566a913d2>:52: UserWarning: Boolean Series key will be reindexed to match DataFrame index.\n",
            "  filtered_data = group[condition]  # FIXED: Directly use the boolean mask\n",
            "<ipython-input-18-8e8566a913d2>:52: UserWarning: Boolean Series key will be reindexed to match DataFrame index.\n",
            "  filtered_data = group[condition]  # FIXED: Directly use the boolean mask\n"
          ]
        },
        {
          "output_type": "stream",
          "name": "stdout",
          "text": [
            "Created new_sorted_students_new/ECE_06.xlsx\n",
            "Created new_sorted_students_new/EEE_06.xlsx\n"
          ]
        },
        {
          "output_type": "stream",
          "name": "stderr",
          "text": [
            "<ipython-input-18-8e8566a913d2>:52: UserWarning: Boolean Series key will be reindexed to match DataFrame index.\n",
            "  filtered_data = group[condition]  # FIXED: Directly use the boolean mask\n",
            "<ipython-input-18-8e8566a913d2>:52: UserWarning: Boolean Series key will be reindexed to match DataFrame index.\n",
            "  filtered_data = group[condition]  # FIXED: Directly use the boolean mask\n",
            "<ipython-input-18-8e8566a913d2>:52: UserWarning: Boolean Series key will be reindexed to match DataFrame index.\n",
            "  filtered_data = group[condition]  # FIXED: Directly use the boolean mask\n",
            "<ipython-input-18-8e8566a913d2>:52: UserWarning: Boolean Series key will be reindexed to match DataFrame index.\n",
            "  filtered_data = group[condition]  # FIXED: Directly use the boolean mask\n",
            "<ipython-input-18-8e8566a913d2>:52: UserWarning: Boolean Series key will be reindexed to match DataFrame index.\n",
            "  filtered_data = group[condition]  # FIXED: Directly use the boolean mask\n",
            "<ipython-input-18-8e8566a913d2>:52: UserWarning: Boolean Series key will be reindexed to match DataFrame index.\n",
            "  filtered_data = group[condition]  # FIXED: Directly use the boolean mask\n",
            "<ipython-input-18-8e8566a913d2>:52: UserWarning: Boolean Series key will be reindexed to match DataFrame index.\n",
            "  filtered_data = group[condition]  # FIXED: Directly use the boolean mask\n",
            "<ipython-input-18-8e8566a913d2>:52: UserWarning: Boolean Series key will be reindexed to match DataFrame index.\n",
            "  filtered_data = group[condition]  # FIXED: Directly use the boolean mask\n",
            "<ipython-input-18-8e8566a913d2>:52: UserWarning: Boolean Series key will be reindexed to match DataFrame index.\n",
            "  filtered_data = group[condition]  # FIXED: Directly use the boolean mask\n",
            "<ipython-input-18-8e8566a913d2>:52: UserWarning: Boolean Series key will be reindexed to match DataFrame index.\n",
            "  filtered_data = group[condition]  # FIXED: Directly use the boolean mask\n",
            "<ipython-input-18-8e8566a913d2>:52: UserWarning: Boolean Series key will be reindexed to match DataFrame index.\n",
            "  filtered_data = group[condition]  # FIXED: Directly use the boolean mask\n",
            "<ipython-input-18-8e8566a913d2>:52: UserWarning: Boolean Series key will be reindexed to match DataFrame index.\n",
            "  filtered_data = group[condition]  # FIXED: Directly use the boolean mask\n",
            "<ipython-input-18-8e8566a913d2>:52: UserWarning: Boolean Series key will be reindexed to match DataFrame index.\n",
            "  filtered_data = group[condition]  # FIXED: Directly use the boolean mask\n",
            "<ipython-input-18-8e8566a913d2>:52: UserWarning: Boolean Series key will be reindexed to match DataFrame index.\n",
            "  filtered_data = group[condition]  # FIXED: Directly use the boolean mask\n",
            "<ipython-input-18-8e8566a913d2>:52: UserWarning: Boolean Series key will be reindexed to match DataFrame index.\n",
            "  filtered_data = group[condition]  # FIXED: Directly use the boolean mask\n",
            "<ipython-input-18-8e8566a913d2>:52: UserWarning: Boolean Series key will be reindexed to match DataFrame index.\n",
            "  filtered_data = group[condition]  # FIXED: Directly use the boolean mask\n"
          ]
        },
        {
          "output_type": "stream",
          "name": "stdout",
          "text": [
            "Created new_sorted_students_new/ME_06.xlsx\n",
            "Created new_sorted_students_new/CE_08.xlsx\n"
          ]
        },
        {
          "output_type": "stream",
          "name": "stderr",
          "text": [
            "<ipython-input-18-8e8566a913d2>:52: UserWarning: Boolean Series key will be reindexed to match DataFrame index.\n",
            "  filtered_data = group[condition]  # FIXED: Directly use the boolean mask\n",
            "<ipython-input-18-8e8566a913d2>:52: UserWarning: Boolean Series key will be reindexed to match DataFrame index.\n",
            "  filtered_data = group[condition]  # FIXED: Directly use the boolean mask\n",
            "<ipython-input-18-8e8566a913d2>:52: UserWarning: Boolean Series key will be reindexed to match DataFrame index.\n",
            "  filtered_data = group[condition]  # FIXED: Directly use the boolean mask\n",
            "<ipython-input-18-8e8566a913d2>:52: UserWarning: Boolean Series key will be reindexed to match DataFrame index.\n",
            "  filtered_data = group[condition]  # FIXED: Directly use the boolean mask\n",
            "<ipython-input-18-8e8566a913d2>:52: UserWarning: Boolean Series key will be reindexed to match DataFrame index.\n",
            "  filtered_data = group[condition]  # FIXED: Directly use the boolean mask\n",
            "<ipython-input-18-8e8566a913d2>:52: UserWarning: Boolean Series key will be reindexed to match DataFrame index.\n",
            "  filtered_data = group[condition]  # FIXED: Directly use the boolean mask\n",
            "<ipython-input-18-8e8566a913d2>:52: UserWarning: Boolean Series key will be reindexed to match DataFrame index.\n",
            "  filtered_data = group[condition]  # FIXED: Directly use the boolean mask\n",
            "<ipython-input-18-8e8566a913d2>:52: UserWarning: Boolean Series key will be reindexed to match DataFrame index.\n",
            "  filtered_data = group[condition]  # FIXED: Directly use the boolean mask\n",
            "<ipython-input-18-8e8566a913d2>:52: UserWarning: Boolean Series key will be reindexed to match DataFrame index.\n",
            "  filtered_data = group[condition]  # FIXED: Directly use the boolean mask\n",
            "<ipython-input-18-8e8566a913d2>:52: UserWarning: Boolean Series key will be reindexed to match DataFrame index.\n",
            "  filtered_data = group[condition]  # FIXED: Directly use the boolean mask\n",
            "<ipython-input-18-8e8566a913d2>:52: UserWarning: Boolean Series key will be reindexed to match DataFrame index.\n",
            "  filtered_data = group[condition]  # FIXED: Directly use the boolean mask\n",
            "<ipython-input-18-8e8566a913d2>:52: UserWarning: Boolean Series key will be reindexed to match DataFrame index.\n",
            "  filtered_data = group[condition]  # FIXED: Directly use the boolean mask\n",
            "<ipython-input-18-8e8566a913d2>:52: UserWarning: Boolean Series key will be reindexed to match DataFrame index.\n",
            "  filtered_data = group[condition]  # FIXED: Directly use the boolean mask\n",
            "<ipython-input-18-8e8566a913d2>:52: UserWarning: Boolean Series key will be reindexed to match DataFrame index.\n",
            "  filtered_data = group[condition]  # FIXED: Directly use the boolean mask\n",
            "<ipython-input-18-8e8566a913d2>:52: UserWarning: Boolean Series key will be reindexed to match DataFrame index.\n",
            "  filtered_data = group[condition]  # FIXED: Directly use the boolean mask\n",
            "<ipython-input-18-8e8566a913d2>:52: UserWarning: Boolean Series key will be reindexed to match DataFrame index.\n",
            "  filtered_data = group[condition]  # FIXED: Directly use the boolean mask\n"
          ]
        },
        {
          "output_type": "stream",
          "name": "stdout",
          "text": [
            "Created new_sorted_students_new/CIT_08.xlsx\n",
            "Created new_sorted_students_new/CSD_08.xlsx\n"
          ]
        },
        {
          "output_type": "stream",
          "name": "stderr",
          "text": [
            "<ipython-input-18-8e8566a913d2>:52: UserWarning: Boolean Series key will be reindexed to match DataFrame index.\n",
            "  filtered_data = group[condition]  # FIXED: Directly use the boolean mask\n",
            "<ipython-input-18-8e8566a913d2>:52: UserWarning: Boolean Series key will be reindexed to match DataFrame index.\n",
            "  filtered_data = group[condition]  # FIXED: Directly use the boolean mask\n",
            "<ipython-input-18-8e8566a913d2>:52: UserWarning: Boolean Series key will be reindexed to match DataFrame index.\n",
            "  filtered_data = group[condition]  # FIXED: Directly use the boolean mask\n",
            "<ipython-input-18-8e8566a913d2>:52: UserWarning: Boolean Series key will be reindexed to match DataFrame index.\n",
            "  filtered_data = group[condition]  # FIXED: Directly use the boolean mask\n",
            "<ipython-input-18-8e8566a913d2>:52: UserWarning: Boolean Series key will be reindexed to match DataFrame index.\n",
            "  filtered_data = group[condition]  # FIXED: Directly use the boolean mask\n",
            "<ipython-input-18-8e8566a913d2>:52: UserWarning: Boolean Series key will be reindexed to match DataFrame index.\n",
            "  filtered_data = group[condition]  # FIXED: Directly use the boolean mask\n",
            "<ipython-input-18-8e8566a913d2>:52: UserWarning: Boolean Series key will be reindexed to match DataFrame index.\n",
            "  filtered_data = group[condition]  # FIXED: Directly use the boolean mask\n",
            "<ipython-input-18-8e8566a913d2>:52: UserWarning: Boolean Series key will be reindexed to match DataFrame index.\n",
            "  filtered_data = group[condition]  # FIXED: Directly use the boolean mask\n",
            "<ipython-input-18-8e8566a913d2>:52: UserWarning: Boolean Series key will be reindexed to match DataFrame index.\n",
            "  filtered_data = group[condition]  # FIXED: Directly use the boolean mask\n",
            "<ipython-input-18-8e8566a913d2>:52: UserWarning: Boolean Series key will be reindexed to match DataFrame index.\n",
            "  filtered_data = group[condition]  # FIXED: Directly use the boolean mask\n",
            "<ipython-input-18-8e8566a913d2>:52: UserWarning: Boolean Series key will be reindexed to match DataFrame index.\n",
            "  filtered_data = group[condition]  # FIXED: Directly use the boolean mask\n",
            "<ipython-input-18-8e8566a913d2>:52: UserWarning: Boolean Series key will be reindexed to match DataFrame index.\n",
            "  filtered_data = group[condition]  # FIXED: Directly use the boolean mask\n",
            "<ipython-input-18-8e8566a913d2>:52: UserWarning: Boolean Series key will be reindexed to match DataFrame index.\n",
            "  filtered_data = group[condition]  # FIXED: Directly use the boolean mask\n",
            "<ipython-input-18-8e8566a913d2>:52: UserWarning: Boolean Series key will be reindexed to match DataFrame index.\n",
            "  filtered_data = group[condition]  # FIXED: Directly use the boolean mask\n",
            "<ipython-input-18-8e8566a913d2>:52: UserWarning: Boolean Series key will be reindexed to match DataFrame index.\n",
            "  filtered_data = group[condition]  # FIXED: Directly use the boolean mask\n",
            "<ipython-input-18-8e8566a913d2>:52: UserWarning: Boolean Series key will be reindexed to match DataFrame index.\n",
            "  filtered_data = group[condition]  # FIXED: Directly use the boolean mask\n"
          ]
        },
        {
          "output_type": "stream",
          "name": "stdout",
          "text": [
            "Created new_sorted_students_new/CSE_08.xlsx\n",
            "Created new_sorted_students_new/ECE_08.xlsx\n"
          ]
        },
        {
          "output_type": "stream",
          "name": "stderr",
          "text": [
            "<ipython-input-18-8e8566a913d2>:52: UserWarning: Boolean Series key will be reindexed to match DataFrame index.\n",
            "  filtered_data = group[condition]  # FIXED: Directly use the boolean mask\n",
            "<ipython-input-18-8e8566a913d2>:52: UserWarning: Boolean Series key will be reindexed to match DataFrame index.\n",
            "  filtered_data = group[condition]  # FIXED: Directly use the boolean mask\n",
            "<ipython-input-18-8e8566a913d2>:52: UserWarning: Boolean Series key will be reindexed to match DataFrame index.\n",
            "  filtered_data = group[condition]  # FIXED: Directly use the boolean mask\n",
            "<ipython-input-18-8e8566a913d2>:52: UserWarning: Boolean Series key will be reindexed to match DataFrame index.\n",
            "  filtered_data = group[condition]  # FIXED: Directly use the boolean mask\n",
            "<ipython-input-18-8e8566a913d2>:52: UserWarning: Boolean Series key will be reindexed to match DataFrame index.\n",
            "  filtered_data = group[condition]  # FIXED: Directly use the boolean mask\n",
            "<ipython-input-18-8e8566a913d2>:52: UserWarning: Boolean Series key will be reindexed to match DataFrame index.\n",
            "  filtered_data = group[condition]  # FIXED: Directly use the boolean mask\n",
            "<ipython-input-18-8e8566a913d2>:52: UserWarning: Boolean Series key will be reindexed to match DataFrame index.\n",
            "  filtered_data = group[condition]  # FIXED: Directly use the boolean mask\n",
            "<ipython-input-18-8e8566a913d2>:52: UserWarning: Boolean Series key will be reindexed to match DataFrame index.\n",
            "  filtered_data = group[condition]  # FIXED: Directly use the boolean mask\n",
            "<ipython-input-18-8e8566a913d2>:52: UserWarning: Boolean Series key will be reindexed to match DataFrame index.\n",
            "  filtered_data = group[condition]  # FIXED: Directly use the boolean mask\n",
            "<ipython-input-18-8e8566a913d2>:52: UserWarning: Boolean Series key will be reindexed to match DataFrame index.\n",
            "  filtered_data = group[condition]  # FIXED: Directly use the boolean mask\n",
            "<ipython-input-18-8e8566a913d2>:52: UserWarning: Boolean Series key will be reindexed to match DataFrame index.\n",
            "  filtered_data = group[condition]  # FIXED: Directly use the boolean mask\n",
            "<ipython-input-18-8e8566a913d2>:52: UserWarning: Boolean Series key will be reindexed to match DataFrame index.\n",
            "  filtered_data = group[condition]  # FIXED: Directly use the boolean mask\n",
            "<ipython-input-18-8e8566a913d2>:52: UserWarning: Boolean Series key will be reindexed to match DataFrame index.\n",
            "  filtered_data = group[condition]  # FIXED: Directly use the boolean mask\n",
            "<ipython-input-18-8e8566a913d2>:52: UserWarning: Boolean Series key will be reindexed to match DataFrame index.\n",
            "  filtered_data = group[condition]  # FIXED: Directly use the boolean mask\n",
            "<ipython-input-18-8e8566a913d2>:52: UserWarning: Boolean Series key will be reindexed to match DataFrame index.\n",
            "  filtered_data = group[condition]  # FIXED: Directly use the boolean mask\n",
            "<ipython-input-18-8e8566a913d2>:52: UserWarning: Boolean Series key will be reindexed to match DataFrame index.\n",
            "  filtered_data = group[condition]  # FIXED: Directly use the boolean mask\n"
          ]
        },
        {
          "output_type": "stream",
          "name": "stdout",
          "text": [
            "Created new_sorted_students_new/EEE_08.xlsx\n"
          ]
        },
        {
          "output_type": "stream",
          "name": "stderr",
          "text": [
            "<ipython-input-18-8e8566a913d2>:52: UserWarning: Boolean Series key will be reindexed to match DataFrame index.\n",
            "  filtered_data = group[condition]  # FIXED: Directly use the boolean mask\n",
            "<ipython-input-18-8e8566a913d2>:52: UserWarning: Boolean Series key will be reindexed to match DataFrame index.\n",
            "  filtered_data = group[condition]  # FIXED: Directly use the boolean mask\n",
            "<ipython-input-18-8e8566a913d2>:52: UserWarning: Boolean Series key will be reindexed to match DataFrame index.\n",
            "  filtered_data = group[condition]  # FIXED: Directly use the boolean mask\n",
            "<ipython-input-18-8e8566a913d2>:52: UserWarning: Boolean Series key will be reindexed to match DataFrame index.\n",
            "  filtered_data = group[condition]  # FIXED: Directly use the boolean mask\n",
            "<ipython-input-18-8e8566a913d2>:52: UserWarning: Boolean Series key will be reindexed to match DataFrame index.\n",
            "  filtered_data = group[condition]  # FIXED: Directly use the boolean mask\n",
            "<ipython-input-18-8e8566a913d2>:52: UserWarning: Boolean Series key will be reindexed to match DataFrame index.\n",
            "  filtered_data = group[condition]  # FIXED: Directly use the boolean mask\n",
            "<ipython-input-18-8e8566a913d2>:52: UserWarning: Boolean Series key will be reindexed to match DataFrame index.\n",
            "  filtered_data = group[condition]  # FIXED: Directly use the boolean mask\n",
            "<ipython-input-18-8e8566a913d2>:52: UserWarning: Boolean Series key will be reindexed to match DataFrame index.\n",
            "  filtered_data = group[condition]  # FIXED: Directly use the boolean mask\n"
          ]
        },
        {
          "output_type": "stream",
          "name": "stdout",
          "text": [
            "Created new_sorted_students_new/ME_08.xlsx\n",
            "Processing complete.\n"
          ]
        }
      ]
    },
    {
      "cell_type": "code",
      "source": [],
      "metadata": {
        "id": "CgJPXIXg7Ap6"
      },
      "execution_count": null,
      "outputs": []
    }
  ]
}